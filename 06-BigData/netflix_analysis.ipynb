{
 "cells": [
  {
   "cell_type": "markdown",
   "id": "331daed5",
   "metadata": {},
   "source": [
    "# Netflix Dataset Analysis"
   ]
  },
  {
   "cell_type": "code",
   "execution_count": 47,
   "id": "7a942d5d",
   "metadata": {},
   "outputs": [],
   "source": [
    "import os\n",
    "import re\n",
    "import pandas as pd\n",
    "import numpy as np\n",
    "import matplotlib.pyplot as plt\n",
    "import seaborn as sns\n",
    "\n",
    "sns.set(style=\"whitegrid\")\n",
    "%matplotlib inline \n",
    "\n",
    "OUTDIR = \"outputs\"\n",
    "os.makedirs(OUTDIR, exist_ok=True)\n",
    "\n",
    "CSV_IN = \"netflix_titles.csv\"  # make sure this file is in the same folder"
   ]
  },
  {
   "cell_type": "markdown",
   "id": "c4697295",
   "metadata": {},
   "source": [
    "## Data Transformation"
   ]
  },
  {
   "cell_type": "code",
   "execution_count": 48,
   "id": "a51c6c39",
   "metadata": {},
   "outputs": [],
   "source": [
    "def parse_duration(s):\n",
    "    \"\"\"Return (type, value) from strings like '90 min' or '1 Season'\"\"\"\n",
    "    if pd.isna(s): return (None, None)\n",
    "    s = str(s).strip()\n",
    "    if s == \"\": return (None, None)\n",
    "    s_low = s.lower()\n",
    "    if \"min\" in s_low:\n",
    "        m = re.search(r'(\\d+)', s_low)\n",
    "        return (\"min\", int(m.group(1)) if m else None)\n",
    "    if \"season\" in s_low:\n",
    "        m = re.search(r'(\\d+)', s_low)\n",
    "        return (\"season\", int(m.group(1)) if m else None)\n",
    "    m = re.search(r'(\\d+)', s_low)\n",
    "    if m: return (\"unknown\", int(m.group(1)))\n",
    "    return (None, None)\n",
    "\n",
    "def first_item_from_comma_field(x):\n",
    "    if pd.isna(x): return \"Unknown\"\n",
    "    parts = [p.strip() for p in str(x).split(\",\") if p.strip()]\n",
    "    return parts[0] if parts else \"Unknown\""
   ]
  },
  {
   "cell_type": "markdown",
   "id": "176e3b69",
   "metadata": {},
   "source": [
    "## Load Dataset"
   ]
  },
  {
   "cell_type": "code",
   "execution_count": 49,
   "id": "4bf40ed8",
   "metadata": {},
   "outputs": [
    {
     "name": "stdout",
     "output_type": "stream",
     "text": [
      "Original shape: (8807, 12)\n",
      "Columns: ['show_id', 'type', 'title', 'director', 'cast', 'country', 'date_added', 'release_year', 'rating', 'duration', 'listed_in', 'description']\n"
     ]
    },
    {
     "data": {
      "text/html": [
       "<div>\n",
       "<style scoped>\n",
       "    .dataframe tbody tr th:only-of-type {\n",
       "        vertical-align: middle;\n",
       "    }\n",
       "\n",
       "    .dataframe tbody tr th {\n",
       "        vertical-align: top;\n",
       "    }\n",
       "\n",
       "    .dataframe thead th {\n",
       "        text-align: right;\n",
       "    }\n",
       "</style>\n",
       "<table border=\"1\" class=\"dataframe\">\n",
       "  <thead>\n",
       "    <tr style=\"text-align: right;\">\n",
       "      <th></th>\n",
       "      <th>show_id</th>\n",
       "      <th>type</th>\n",
       "      <th>title</th>\n",
       "      <th>director</th>\n",
       "      <th>cast</th>\n",
       "      <th>country</th>\n",
       "      <th>date_added</th>\n",
       "      <th>release_year</th>\n",
       "      <th>rating</th>\n",
       "      <th>duration</th>\n",
       "      <th>listed_in</th>\n",
       "      <th>description</th>\n",
       "    </tr>\n",
       "  </thead>\n",
       "  <tbody>\n",
       "    <tr>\n",
       "      <th>0</th>\n",
       "      <td>s1</td>\n",
       "      <td>Movie</td>\n",
       "      <td>Dick Johnson Is Dead</td>\n",
       "      <td>Kirsten Johnson</td>\n",
       "      <td>NaN</td>\n",
       "      <td>United States</td>\n",
       "      <td>September 25, 2021</td>\n",
       "      <td>2020</td>\n",
       "      <td>PG-13</td>\n",
       "      <td>90 min</td>\n",
       "      <td>Documentaries</td>\n",
       "      <td>As her father nears the end of his life, filmm...</td>\n",
       "    </tr>\n",
       "    <tr>\n",
       "      <th>1</th>\n",
       "      <td>s2</td>\n",
       "      <td>TV Show</td>\n",
       "      <td>Blood &amp; Water</td>\n",
       "      <td>NaN</td>\n",
       "      <td>Ama Qamata, Khosi Ngema, Gail Mabalane, Thaban...</td>\n",
       "      <td>South Africa</td>\n",
       "      <td>September 24, 2021</td>\n",
       "      <td>2021</td>\n",
       "      <td>TV-MA</td>\n",
       "      <td>2 Seasons</td>\n",
       "      <td>International TV Shows, TV Dramas, TV Mysteries</td>\n",
       "      <td>After crossing paths at a party, a Cape Town t...</td>\n",
       "    </tr>\n",
       "    <tr>\n",
       "      <th>2</th>\n",
       "      <td>s3</td>\n",
       "      <td>TV Show</td>\n",
       "      <td>Ganglands</td>\n",
       "      <td>Julien Leclercq</td>\n",
       "      <td>Sami Bouajila, Tracy Gotoas, Samuel Jouy, Nabi...</td>\n",
       "      <td>NaN</td>\n",
       "      <td>September 24, 2021</td>\n",
       "      <td>2021</td>\n",
       "      <td>TV-MA</td>\n",
       "      <td>1 Season</td>\n",
       "      <td>Crime TV Shows, International TV Shows, TV Act...</td>\n",
       "      <td>To protect his family from a powerful drug lor...</td>\n",
       "    </tr>\n",
       "  </tbody>\n",
       "</table>\n",
       "</div>"
      ],
      "text/plain": [
       "  show_id     type                 title         director  \\\n",
       "0      s1    Movie  Dick Johnson Is Dead  Kirsten Johnson   \n",
       "1      s2  TV Show         Blood & Water              NaN   \n",
       "2      s3  TV Show             Ganglands  Julien Leclercq   \n",
       "\n",
       "                                                cast        country  \\\n",
       "0                                                NaN  United States   \n",
       "1  Ama Qamata, Khosi Ngema, Gail Mabalane, Thaban...   South Africa   \n",
       "2  Sami Bouajila, Tracy Gotoas, Samuel Jouy, Nabi...            NaN   \n",
       "\n",
       "           date_added  release_year rating   duration  \\\n",
       "0  September 25, 2021          2020  PG-13     90 min   \n",
       "1  September 24, 2021          2021  TV-MA  2 Seasons   \n",
       "2  September 24, 2021          2021  TV-MA   1 Season   \n",
       "\n",
       "                                           listed_in  \\\n",
       "0                                      Documentaries   \n",
       "1    International TV Shows, TV Dramas, TV Mysteries   \n",
       "2  Crime TV Shows, International TV Shows, TV Act...   \n",
       "\n",
       "                                         description  \n",
       "0  As her father nears the end of his life, filmm...  \n",
       "1  After crossing paths at a party, a Cape Town t...  \n",
       "2  To protect his family from a powerful drug lor...  "
      ]
     },
     "execution_count": 49,
     "metadata": {},
     "output_type": "execute_result"
    }
   ],
   "source": [
    "if not os.path.exists(CSV_IN):\n",
    "    raise SystemExit(f\"File not found: {CSV_IN} — put it in the root\")\n",
    "\n",
    "df = pd.read_csv(CSV_IN)\n",
    "print(\"Original shape:\", df.shape)\n",
    "\n",
    "# Fix Column names\n",
    "df.columns = df.columns.str.strip().str.lower().str.replace(' ', '_')\n",
    "print(\"Columns:\", list(df.columns))\n",
    "df.head(3)"
   ]
  },
  {
   "cell_type": "markdown",
   "id": "4f833437",
   "metadata": {},
   "source": [
    "## Data Cleaning"
   ]
  },
  {
   "cell_type": "code",
   "execution_count": 50,
   "id": "30e72cc6",
   "metadata": {},
   "outputs": [
    {
     "name": "stdout",
     "output_type": "stream",
     "text": [
      "After cleaning shape: (8807, 19)\n",
      "<class 'pandas.core.frame.DataFrame'>\n",
      "RangeIndex: 8807 entries, 0 to 8806\n",
      "Data columns (total 19 columns):\n",
      " #   Column            Non-Null Count  Dtype         \n",
      "---  ------            --------------  -----         \n",
      " 0   show_id           8807 non-null   object        \n",
      " 1   type              8807 non-null   object        \n",
      " 2   title             8807 non-null   object        \n",
      " 3   director          6173 non-null   object        \n",
      " 4   cast              7982 non-null   object        \n",
      " 5   country           7976 non-null   object        \n",
      " 6   date_added        8709 non-null   datetime64[ns]\n",
      " 7   release_year      8807 non-null   Int64         \n",
      " 8   rating            8803 non-null   object        \n",
      " 9   duration          8804 non-null   object        \n",
      " 10  listed_in         8807 non-null   object        \n",
      " 11  description       8807 non-null   object        \n",
      " 12  added_year        8709 non-null   float64       \n",
      " 13  added_month       8709 non-null   float64       \n",
      " 14  duration_type     8804 non-null   object        \n",
      " 15  duration_int      8804 non-null   float64       \n",
      " 16  genres_list       8807 non-null   object        \n",
      " 17  primary_country   8807 non-null   object        \n",
      " 18  primary_director  8807 non-null   object        \n",
      "dtypes: Int64(1), datetime64[ns](1), float64(3), object(14)\n",
      "memory usage: 1.3+ MB\n",
      "Saved cleaned CSV to outputs\\netflix_cleaned.csv\n"
     ]
    }
   ],
   "source": [
    "# Drop duplicates\n",
    "df.drop_duplicates(inplace=True)\n",
    "\n",
    "# Parse date_added\n",
    "if 'date_added' in df.columns:\n",
    "    df['date_added'] = pd.to_datetime(df['date_added'], errors='coerce')\n",
    "    df['added_year'] = df['date_added'].dt.year\n",
    "    df['added_month'] = df['date_added'].dt.month\n",
    "\n",
    "# Ensure release_year is numeric\n",
    "if 'release_year' in df.columns:\n",
    "    df['release_year'] = pd.to_numeric(df['release_year'], errors='coerce').astype('Int64')\n",
    "\n",
    "# Parse duration\n",
    "if 'duration' in df.columns:\n",
    "    parsed = df['duration'].apply(lambda x: pd.Series(parse_duration(x), index=['duration_type', 'duration_int']))\n",
    "    df = pd.concat([df, parsed], axis=1)\n",
    "\n",
    "# Genres list\n",
    "if 'listed_in' in df.columns:\n",
    "    df['genres_list'] = df['listed_in'].fillna(\"Unknown\").apply(lambda s: [g.strip() for g in str(s).split(\",\") if g.strip()])\n",
    "\n",
    "# Primary country & director\n",
    "if 'country' in df.columns:\n",
    "    df['primary_country'] = df['country'].apply(first_item_from_comma_field)\n",
    "if 'director' in df.columns:\n",
    "    df['primary_director'] = df['director'].apply(first_item_from_comma_field)\n",
    "else:\n",
    "    df['primary_director'] = \"Unknown\"\n",
    "\n",
    "print(\"After cleaning shape:\", df.shape)\n",
    "df.info()\n",
    "\n",
    "# Output Cleaned CSV\n",
    "clean_path = os.path.join(OUTDIR, \"netflix_cleaned.csv\")\n",
    "df.to_csv(clean_path, index=False)\n",
    "print(\"Saved cleaned CSV to\", clean_path)"
   ]
  },
  {
   "cell_type": "markdown",
   "id": "c6d1405d",
   "metadata": {},
   "source": [
    "## Data Analysis"
   ]
  },
  {
   "cell_type": "markdown",
   "id": "1f0b8682",
   "metadata": {},
   "source": [
    "### Movies vs Shows"
   ]
  },
  {
   "cell_type": "code",
   "execution_count": 51,
   "id": "981e0bd2",
   "metadata": {},
   "outputs": [
    {
     "name": "stdout",
     "output_type": "stream",
     "text": [
      "type\n",
      "Movie      6131\n",
      "TV Show    2676\n",
      "Name: count, dtype: int64\n"
     ]
    }
   ],
   "source": [
    "results = {}\n",
    "\n",
    "if 'type' in df.columns:\n",
    "    results['type_counts'] = df['type'].value_counts()\n",
    "    results['type_counts']\n",
    "    print(results['type_counts'])"
   ]
  },
  {
   "cell_type": "markdown",
   "id": "726e1a04",
   "metadata": {},
   "source": [
    "### Top Country"
   ]
  },
  {
   "cell_type": "code",
   "execution_count": 52,
   "id": "da61d86d",
   "metadata": {},
   "outputs": [
    {
     "name": "stdout",
     "output_type": "stream",
     "text": [
      "primary_country\n",
      "United States     3211\n",
      "India             1008\n",
      "Unknown            831\n",
      "United Kingdom     628\n",
      "Canada             271\n",
      "Japan              259\n",
      "France             213\n",
      "South Korea        212\n",
      "Spain              181\n",
      "Mexico             134\n",
      "Australia          117\n",
      "Egypt              112\n",
      "Turkey             111\n",
      "Germany            103\n",
      "China              100\n",
      "Name: count, dtype: int64\n"
     ]
    }
   ],
   "source": [
    "\n",
    "if 'primary_country' in df.columns:\n",
    "    results['top_countries'] = df['primary_country'].value_counts().head(15)\n",
    "    results['top_countries']\n",
    "    print(results['top_countries'])"
   ]
  },
  {
   "cell_type": "markdown",
   "id": "4aa74976",
   "metadata": {},
   "source": [
    "### Top Directors"
   ]
  },
  {
   "cell_type": "code",
   "execution_count": 53,
   "id": "e5e32712",
   "metadata": {},
   "outputs": [
    {
     "data": {
      "text/plain": [
       "primary_director\n",
       "Unknown                2634\n",
       "Rajiv Chilaka            22\n",
       "Raúl Campos              18\n",
       "Suhas Kadav              16\n",
       "Marcus Raboy             16\n",
       "Jay Karas                15\n",
       "Cathy Garcia-Molina      13\n",
       "Martin Scorsese          12\n",
       "Youssef Chahine          12\n",
       "Jay Chapman              12\n",
       "Steven Spielberg         11\n",
       "Don Michael Paul         10\n",
       "Shannon Hartman           9\n",
       "Yılmaz Erdoğan            9\n",
       "David Dhawan              9\n",
       "Name: count, dtype: int64"
      ]
     },
     "execution_count": 53,
     "metadata": {},
     "output_type": "execute_result"
    }
   ],
   "source": [
    "results['top_directors'] = df['primary_director'].value_counts().head(15)\n",
    "results['top_directors']"
   ]
  },
  {
   "cell_type": "markdown",
   "id": "0cca458c",
   "metadata": {},
   "source": [
    "### Top Genres"
   ]
  },
  {
   "cell_type": "code",
   "execution_count": 54,
   "id": "99999c2a",
   "metadata": {},
   "outputs": [
    {
     "name": "stdout",
     "output_type": "stream",
     "text": [
      "genres_list\n",
      "International Movies        2752\n",
      "Dramas                      2427\n",
      "Comedies                    1674\n",
      "International TV Shows      1351\n",
      "Documentaries                869\n",
      "Action & Adventure           859\n",
      "TV Dramas                    763\n",
      "Independent Movies           756\n",
      "Children & Family Movies     641\n",
      "Romantic Movies              616\n",
      "TV Comedies                  581\n",
      "Thrillers                    577\n",
      "Crime TV Shows               470\n",
      "Kids' TV                     451\n",
      "Docuseries                   395\n",
      "Music & Musicals             375\n",
      "Romantic TV Shows            370\n",
      "Horror Movies                357\n",
      "Stand-Up Comedy              343\n",
      "Reality TV                   255\n",
      "Name: count, dtype: int64\n"
     ]
    }
   ],
   "source": [
    "if 'genres_list' in df.columns:\n",
    "    genres_exploded = df.explode('genres_list')\n",
    "    genres_exploded['genres_list'] = genres_exploded['genres_list'].fillna('Unknown')\n",
    "    results['top_genres'] = genres_exploded['genres_list'].value_counts().head(20)\n",
    "    results['top_genres']\n",
    "    print(results['top_genres'])"
   ]
  },
  {
   "cell_type": "markdown",
   "id": "3fcf442d",
   "metadata": {},
   "source": [
    "### New Releases Every Year"
   ]
  },
  {
   "cell_type": "code",
   "execution_count": 55,
   "id": "140494fe",
   "metadata": {},
   "outputs": [
    {
     "name": "stdout",
     "output_type": "stream",
     "text": [
      "added_year\n",
      "2008       2\n",
      "2009       2\n",
      "2010       1\n",
      "2011      13\n",
      "2012       3\n",
      "2013      10\n",
      "2014      23\n",
      "2015      73\n",
      "2016     418\n",
      "2017    1164\n",
      "2018    1625\n",
      "2019    1999\n",
      "2020    1878\n",
      "2021    1498\n",
      "Name: count, dtype: int64\n"
     ]
    }
   ],
   "source": [
    "if 'added_year' in df.columns:\n",
    "    df_valid = df['added_year'].dropna().astype(int)\n",
    "    results['adds_by_year'] = df_valid.value_counts().sort_index()\n",
    "    print(results['adds_by_year'])"
   ]
  },
  {
   "cell_type": "markdown",
   "id": "87cf188e",
   "metadata": {},
   "source": [
    "### Most VS Least popular release years"
   ]
  },
  {
   "cell_type": "code",
   "execution_count": 56,
   "id": "c536900f",
   "metadata": {},
   "outputs": [
    {
     "name": "stdout",
     "output_type": "stream",
     "text": [
      "Most Popular Release Years:\n",
      "release_year\n",
      "1925    1\n",
      "1942    2\n",
      "1943    3\n",
      "1944    3\n",
      "1945    4\n",
      "Least Popular Release Years:\n",
      "release_year\n",
      "2017    1032\n",
      "2018    1147\n",
      "2019    1030\n",
      "2020     953\n",
      "2021     592\n"
     ]
    }
   ],
   "source": [
    "if 'release_year' in df.columns:\n",
    "    df_valid = df['release_year'].dropna().astype(int)\n",
    "    year_counts = df_valid.value_counts().sort_index()\n",
    "    \n",
    "    top_years = year_counts.head(5)\n",
    "    bottom_years = year_counts.tail(5)\n",
    "    \n",
    "    print(\"Most Popular Release Years:\")\n",
    "    print(top_years.to_string(name=False))\n",
    "    \n",
    "    print(\"Least Popular Release Years:\")\n",
    "    print(bottom_years.to_string(name=False))\n"
   ]
  },
  {
   "cell_type": "code",
   "execution_count": 57,
   "id": "f5b07bc0",
   "metadata": {},
   "outputs": [
    {
     "name": "stdout",
     "output_type": "stream",
     "text": [
      "Movies:\n",
      "The Shortest Movie is only 3 minutes\n",
      "The longest movie is a WHOPPING 312 minutes\n",
      "\n",
      "TV Shows:\n",
      "Show with the most seasons is Grey's Anatomy with 17 seasons\n"
     ]
    }
   ],
   "source": [
    "if 'duration_type' in df.columns and 'duration_int' in df.columns:\n",
    "    movies = df[(df['duration_type'] == 'min') & df['duration_int'].notna()]['duration_int'].astype(int)\n",
    "    if not movies.empty:\n",
    "        print(\"Movies:\")\n",
    "        print(f\"The Shortest Movie is only {movies.min()} minutes\")\n",
    "        print(f\"The longest movie is a WHOPPING {movies.max()} minutes\")\n",
    "    \n",
    "    tv_shows = df[(df['duration_type'] != 'min') & df['duration_int'].notna()][['title', 'duration_type', 'duration_int']]\n",
    "    if not tv_shows.empty:\n",
    "        tv_shows['duration_int'] = tv_shows['duration_int'].astype(int)\n",
    "        \n",
    "        shortest = tv_shows.loc[tv_shows['duration_int'].idxmin()]\n",
    "        longest = tv_shows.loc[tv_shows['duration_int'].idxmax()]\n",
    "        \n",
    "        print(\"\\nTV Shows:\")\n",
    "        print(f\"Show with the most seasons is {longest['title']} with {longest['duration_int']} {longest['duration_type']}s\")\n",
    "    else:\n",
    "        print(\"No TV shows found.\")\n"
   ]
  },
  {
   "cell_type": "markdown",
   "id": "ad405fd7",
   "metadata": {},
   "source": [
    "## Visualizations"
   ]
  },
  {
   "cell_type": "markdown",
   "id": "a8d883ab",
   "metadata": {},
   "source": [
    "### Bar Graph Showing the Top Generes"
   ]
  },
  {
   "cell_type": "code",
   "execution_count": 58,
   "id": "f8a193c0",
   "metadata": {},
   "outputs": [],
   "source": [
    "\n",
    "if 'top_genres' in results:\n",
    "    plt.figure(figsize=(10,6))\n",
    "    sns.barplot(x=results['top_genres'].values, y=results['top_genres'].index)\n",
    "    plt.title(\"Top genres (by number of titles)\")\n",
    "    plt.xlabel(\"Number of titles\")\n",
    "    plt.tight_layout()\n",
    "    plt.savefig(os.path.join(OUTDIR, \"top_genres.png\"), dpi=200)\n",
    "    plt.close()"
   ]
  },
  {
   "cell_type": "markdown",
   "id": "64d82205",
   "metadata": {},
   "source": [
    "![Top Genres](outputs/top_genres.png)"
   ]
  },
  {
   "cell_type": "markdown",
   "id": "e97106cc",
   "metadata": {},
   "source": [
    "### Line graph showing additions by year"
   ]
  },
  {
   "cell_type": "code",
   "execution_count": 59,
   "id": "669f7b99",
   "metadata": {},
   "outputs": [],
   "source": [
    "if 'adds_by_year' in results:\n",
    "    plt.figure(figsize=(10,5))\n",
    "    results['adds_by_year'].sort_index().plot(kind='line', marker='o')\n",
    "    plt.title(\"Titles added to Netflix (by year)\")\n",
    "    plt.xlabel(\"Year added\")\n",
    "    plt.ylabel(\"Count\")\n",
    "    plt.tight_layout()\n",
    "    plt.savefig(os.path.join(OUTDIR, \"adds_by_year.png\"), dpi=200)\n",
    "    plt.close()"
   ]
  },
  {
   "cell_type": "markdown",
   "id": "87d23d55",
   "metadata": {},
   "source": [
    "![Additions by Year](outputs/adds_by_year.png)"
   ]
  },
  {
   "cell_type": "markdown",
   "id": "59c7e6e1",
   "metadata": {},
   "source": [
    "### Bar Graph Showing the Top Countries"
   ]
  },
  {
   "cell_type": "code",
   "execution_count": 60,
   "id": "1532fd6b",
   "metadata": {},
   "outputs": [],
   "source": [
    "\n",
    "if 'top_countries' in results:\n",
    "    plt.figure(figsize=(10,6))\n",
    "    sns.barplot(x=results['top_countries'].values, y=results['top_countries'].index)\n",
    "    plt.title(\"Top countries (primary)\")\n",
    "    plt.xlabel(\"Number of titles\")\n",
    "    plt.tight_layout()\n",
    "    plt.savefig(os.path.join(OUTDIR, \"top_countries.png\"), dpi=200)\n",
    "    plt.close()"
   ]
  },
  {
   "cell_type": "markdown",
   "id": "53f2a391",
   "metadata": {},
   "source": [
    "![Top Countries](outputs/top_countries.png)"
   ]
  },
  {
   "cell_type": "markdown",
   "id": "9edef52a",
   "metadata": {},
   "source": [
    "### Graph showing the amount of movies by length"
   ]
  },
  {
   "cell_type": "code",
   "execution_count": 61,
   "id": "c1df64b7",
   "metadata": {},
   "outputs": [],
   "source": [
    "if 'movie_durations' in results and len(results['movie_durations'])>0:\n",
    "    plt.figure(figsize=(8,5))\n",
    "    sns.histplot(results['movie_durations'], bins=40)\n",
    "    plt.title(\"Distribution of movie durations (minutes)\")\n",
    "    plt.xlabel(\"Minutes\")\n",
    "    plt.tight_layout()\n",
    "    plt.savefig(os.path.join(OUTDIR, \"movie_durations_hist.png\"), dpi=200)\n",
    "    plt.close()"
   ]
  },
  {
   "cell_type": "markdown",
   "id": "6b69d1d4",
   "metadata": {},
   "source": [
    "![Movies By Length](outputs/movie_durations_hist.png)"
   ]
  },
  {
   "cell_type": "markdown",
   "id": "67c60e03",
   "metadata": {},
   "source": [
    "## Report "
   ]
  },
  {
   "cell_type": "code",
   "execution_count": 62,
   "id": "5a5a7818",
   "metadata": {},
   "outputs": [
    {
     "name": "stdout",
     "output_type": "stream",
     "text": [
      "Summary saved to outputs\\summary.md\n"
     ]
    }
   ],
   "source": [
    "summary_lines = []\n",
    "\n",
    "summary_lines.append(\"# Netflix Dataset Summary\\n\")\n",
    "\n",
    "# Movies vs Shows\n",
    "if 'type_counts' in results:\n",
    "    summary_lines.append(\"## Titles by Type\")\n",
    "    for t, c in results['type_counts'].items():\n",
    "        summary_lines.append(f\"- {t}: {c}\")\n",
    "    summary_lines.append(\"\")\n",
    "\n",
    "# Top countries\n",
    "if 'top_countries' in results:\n",
    "    summary_lines.append(\"## Top Countries (Primary)\")\n",
    "    for c, n in results['top_countries'].head(10).items():\n",
    "        summary_lines.append(f\"- {c}: {n}\")\n",
    "    summary_lines.append(\"\")\n",
    "\n",
    "# Top Directors\n",
    "if 'top_directors' in results:\n",
    "    summary_lines.append(\"## Top Directors\")\n",
    "    for d, n in results['top_directors'].head(10).items():\n",
    "        summary_lines.append(f\"- {d}: {n}\")\n",
    "    summary_lines.append(\"\")\n",
    "\n",
    "# Top Genres\n",
    "if 'top_genres' in results:\n",
    "    summary_lines.append(\"## Top Genres\")\n",
    "    for g, n in results['top_genres'].head(10).items():\n",
    "        summary_lines.append(f\"- {g}: {n}\")\n",
    "    summary_lines.append(\"\")\n",
    "\n",
    "# Releases per year\n",
    "if 'adds_by_year' in results:\n",
    "    summary_lines.append(\"## Titles Added by Year (last 5 years)\")\n",
    "    for y, n in results['adds_by_year'].tail(5).items():\n",
    "        summary_lines.append(f\"- {y}: {n}\")\n",
    "    summary_lines.append(\"\")\n",
    "\n",
    "# Top release years\n",
    "if 'release_year' in df.columns:\n",
    "    df_valid = df['release_year'].dropna().astype(int)\n",
    "    year_counts = df_valid.value_counts().sort_index()\n",
    "    top_years = year_counts.head(5)\n",
    "    bottom_years = year_counts.tail(5)\n",
    "    summary_lines.append(\"## Most Popular Release Years\")\n",
    "    for y, n in top_years.items():\n",
    "        summary_lines.append(f\"- {y}: {n}\")\n",
    "    summary_lines.append(\"## Least Popular Release Years\")\n",
    "    for y, n in bottom_years.items():\n",
    "        summary_lines.append(f\"- {y}: {n}\")\n",
    "    summary_lines.append(\"\")\n",
    "\n",
    "# Dulation\n",
    "if 'duration_type' in df.columns and 'duration_int' in df.columns:\n",
    "    movies = df[(df['duration_type'] == 'min') & df['duration_int'].notna()]['duration_int'].astype(int)\n",
    "    if not movies.empty:\n",
    "        summary_lines.append(\"## Movie Durations\")\n",
    "        summary_lines.append(f\"- Shortest movie: {movies.min()} minutes\")\n",
    "        summary_lines.append(f\"- Longest movie: {movies.max()} minutes\")\n",
    "    \n",
    "    tv_shows = df[(df['duration_type'] != 'min') & df['duration_int'].notna()][['title', 'duration_type', 'duration_int']]\n",
    "    if not tv_shows.empty:\n",
    "        tv_shows['duration_int'] = tv_shows['duration_int'].astype(int)\n",
    "        shortest = tv_shows.loc[tv_shows['duration_int'].idxmin()]\n",
    "        longest = tv_shows.loc[tv_shows['duration_int'].idxmax()]\n",
    "        summary_lines.append(\"## TV Shows\")\n",
    "        summary_lines.append(f\"- Show with fewest seasons: {shortest['title']} ({shortest['duration_int']} {shortest['duration_type']}s)\")\n",
    "        summary_lines.append(f\"- Show with most seasons: {longest['title']} ({longest['duration_int']} {longest['duration_type']}s)\")\n",
    "\n",
    "# Write the summary of all my danalysis into a markdown file\n",
    "summary_path = os.path.join(OUTDIR, \"summary.md\")\n",
    "with open(summary_path, \"w\", encoding=\"utf-8\") as f:\n",
    "    f.write(\"\\n\".join(summary_lines))\n",
    "\n",
    "print(f\"Summary saved to {summary_path}\")\n"
   ]
  }
 ],
 "metadata": {
  "kernelspec": {
   "display_name": "venv",
   "language": "python",
   "name": "python3"
  },
  "language_info": {
   "codemirror_mode": {
    "name": "ipython",
    "version": 3
   },
   "file_extension": ".py",
   "mimetype": "text/x-python",
   "name": "python",
   "nbconvert_exporter": "python",
   "pygments_lexer": "ipython3",
   "version": "3.13.7"
  }
 },
 "nbformat": 4,
 "nbformat_minor": 5
}
